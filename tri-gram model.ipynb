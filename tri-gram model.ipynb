{
 "cells": [
  {
   "cell_type": "code",
   "execution_count": 84,
   "metadata": {},
   "outputs": [],
   "source": [
    "from nltk.corpus import reuters\n",
    "from nltk import ngrams\n",
    "from collections import defaultdict\n",
    "import pandas as pd\n",
    "#reuters is a corpus containing 10,000 newsletters"
   ]
  },
  {
   "cell_type": "code",
   "execution_count": 92,
   "metadata": {},
   "outputs": [
    {
     "name": "stderr",
     "output_type": "stream",
     "text": [
      "[nltk_data] Downloading package reuters to C:\\Users\\PMICC\n",
      "[nltk_data]     Laptop\\AppData\\Roaming\\nltk_data...\n",
      "[nltk_data]   Package reuters is already up-to-date!\n"
     ]
    },
    {
     "data": {
      "text/plain": [
       "True"
      ]
     },
     "execution_count": 92,
     "metadata": {},
     "output_type": "execute_result"
    }
   ],
   "source": [
    "import nltk\n",
    "nltk.download('reuters')"
   ]
  },
  {
   "cell_type": "code",
   "execution_count": 86,
   "metadata": {},
   "outputs": [],
   "source": [
    "#understanding defaultdict: https://stackoverflow.com/questions/5900578/how-does-collections-defaultdict-work\n",
    "#understanding padding in ngrams ( not imp ): https://stackoverflow.com/questions/43223664/ngrams-with-non-symmetrical-padding-in-nltk\n",
    "\n",
    "model = defaultdict(lambda: defaultdict(float))\n",
    "#we are creationg a library of libraries.\n",
    "#Go down further in the program to understand why it is done this way \n",
    "#remember lambda is used to define a one line function.\n",
    "#we have to use lambda or else we will get the error:\n",
    "#first argument must be callable or None\n",
    "\n",
    "# in the case where we have model as a trigram ( n = 3 ):\n",
    "# model is just a dictionary in which all the 3 words which we \n",
    "# take as the trigram are the key ( in a convoluted way in which\n",
    "# the first two lead to a dictionary of all possible 3rd words\n",
    "# for the first 2, this is done so that we don't have to loop \n",
    "# through all the words to predict the next word but only select \n",
    "# one which is part of the dictionary first 2 lead to) and the value\n",
    "# contained by this sub dictionary under its key ( the third word)\n",
    "# is just the probability of the 3rd word given the first two words occur b4 it.\n",
    "# p(w3 | w1 w2) = p(w1 w2 w3)/p(w1 w2)\n",
    "\n",
    "\n",
    "#step 1: count the occurences:\n",
    "\n",
    "for w1, w2, w3 in ngrams(reuters.words(), 3):\n",
    "    model[w1.lower(), w2.lower()][w3.lower()]+=1\n",
    "    # thankfully by default the initial value is zero\n",
    "    # also I chose to make them case insencitive\n"
   ]
  },
  {
   "cell_type": "code",
   "execution_count": 87,
   "metadata": {},
   "outputs": [],
   "source": [
    "#step 2: count the number of occurences of words one and two \n",
    "#        basically the denominator of the conditional probability\n",
    "\n",
    "temp = defaultdict(float)\n",
    "for w1, w2 in model:\n",
    "    temp[w1, w2] = sum(model[w1, w2].values())\n",
    "    \n"
   ]
  },
  {
   "cell_type": "code",
   "execution_count": 88,
   "metadata": {},
   "outputs": [],
   "source": [
    "#step 3: convert the counts into probabilities\n",
    "for w1, w2 in model:\n",
    "    for w3 in model[w1, w2]:\n",
    "        model[w1, w2][w3] /= temp[w1, w2]\n",
    "    "
   ]
  },
  {
   "cell_type": "code",
   "execution_count": 89,
   "metadata": {},
   "outputs": [
    {
     "name": "stdout",
     "output_type": "stream",
     "text": [
      "defaultdict(<class 'float'>, {'to': 0.7894736842105263, 'in': 0.05263157894736842, 'at': 0.05263157894736842, '.': 0.05263157894736842, 'as': 0.05263157894736842})\n"
     ]
    }
   ],
   "source": [
    "print(model[\"its\", \"name\"])"
   ]
  },
  {
   "cell_type": "code",
   "execution_count": 90,
   "metadata": {},
   "outputs": [],
   "source": [
    "# to print most probable word using two given feed words\n",
    "\n",
    "feed = (\"its\", \"name\")\n",
    "\n",
    "n = 1\n",
    "\n",
    "while n < 20:\n",
    "    inverse = [(value, key) for key, value in model[feed[-2:]].items()]\n",
    "    feed = feed + (max(inverse)[1],)\n",
    "    n+=1\n",
    "\n"
   ]
  },
  {
   "cell_type": "code",
   "execution_count": 91,
   "metadata": {},
   "outputs": [
    {
     "name": "stdout",
     "output_type": "stream",
     "text": [
      "its name to allegis at its annual report . the company said . the company said . the company said .\n"
     ]
    }
   ],
   "source": [
    "print(\" \".join(feed))"
   ]
  }
 ],
 "metadata": {
  "kernelspec": {
   "display_name": "Python 3",
   "language": "python",
   "name": "python3"
  },
  "language_info": {
   "codemirror_mode": {
    "name": "ipython",
    "version": 3
   },
   "file_extension": ".py",
   "mimetype": "text/x-python",
   "name": "python",
   "nbconvert_exporter": "python",
   "pygments_lexer": "ipython3",
   "version": "3.7.3"
  }
 },
 "nbformat": 4,
 "nbformat_minor": 2
}
