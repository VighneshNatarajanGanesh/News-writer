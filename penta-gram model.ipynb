{
 "cells": [
  {
   "cell_type": "code",
   "execution_count": 1,
   "metadata": {},
   "outputs": [],
   "source": [
    "from nltk.corpus import reuters\n",
    "from nltk import ngrams\n",
    "from collections import defaultdict\n",
    "\n",
    "#reuters is a corpus containing 10,000 newsletters"
   ]
  },
  {
   "cell_type": "code",
   "execution_count": 2,
   "metadata": {},
   "outputs": [
    {
     "name": "stderr",
     "output_type": "stream",
     "text": [
      "[nltk_data] Downloading package reuters to C:\\Users\\PMICC\n",
      "[nltk_data]     Laptop\\AppData\\Roaming\\nltk_data...\n",
      "[nltk_data]   Package reuters is already up-to-date!\n"
     ]
    },
    {
     "data": {
      "text/plain": [
       "True"
      ]
     },
     "execution_count": 2,
     "metadata": {},
     "output_type": "execute_result"
    }
   ],
   "source": [
    "import nltk\n",
    "nltk.download('reuters')"
   ]
  },
  {
   "cell_type": "code",
   "execution_count": 3,
   "metadata": {},
   "outputs": [],
   "source": [
    "#understanding defaultdict: https://stackoverflow.com/questions/5900578/how-does-collections-defaultdict-work\n",
    "#understanding padding in ngrams ( not imp ): https://stackoverflow.com/questions/43223664/ngrams-with-non-symmetrical-padding-in-nltk\n",
    "\n",
    "model = defaultdict(lambda: defaultdict(float) )\n",
    "#remember lambda is used to define a one line function.\n",
    "#we have to use lambda or else we will get the error:\n",
    "#first argument must be callable or None\n",
    "\n",
    "# in the case where we have model as a trigram ( n = 3 ):\n",
    "# model is just a dictionary in which all the 3 words which we \n",
    "# take as the trigram are the key ( in a convoluted way in which\n",
    "# the first two lead to a dictionary of all possible 3rd words\n",
    "# for the first 2, this is done so that we don't have to loop \n",
    "# through all the words to predict the next word but only select \n",
    "# one which is part of the dictionary first 2 lead to) and the value\n",
    "# contained by this sub dictionary under its key ( the third word)\n",
    "# is just the probability of the 3rd word given the first two words occur b4 it.\n",
    "# p(w3 | w1 w2) = p(w1 w2 w3)/p(w1 w2)\n",
    "\n",
    "#it is implemented as pentagam model\n",
    "\n",
    "#step 1: count the occurences:\n",
    "\n",
    "for w1, w2, w3, w4, w5 in ngrams(reuters.words(), 5):\n",
    "    model[w1.lower(), w2.lower(), w3.lower(), w4.lower()][w5.lower()]+=1\n",
    "    # thankfully by default the initial value is zero\n",
    "    # also I chose to make them case insencitive\n"
   ]
  },
  {
   "cell_type": "code",
   "execution_count": 4,
   "metadata": {},
   "outputs": [],
   "source": [
    "#step 2: count the number of occurences of words one and two \n",
    "#        basically the denominator of the conditional probability\n",
    "\n",
    "temp = defaultdict(float)\n",
    "for w1, w2, w3, w4 in model:\n",
    "    temp[w1, w2, w3, w4] = sum(model[w1, w2, w3, w4].values())\n",
    "    \n"
   ]
  },
  {
   "cell_type": "code",
   "execution_count": 5,
   "metadata": {},
   "outputs": [],
   "source": [
    "#step 3: convert the counts into probabilities\n",
    "for w1, w2, w3, w4 in model:\n",
    "    for w5 in model[w1, w2, w3, w4]:\n",
    "        model[w1, w2, w3, w4][w5] /= temp[w1, w2, w3, w4]\n",
    "    "
   ]
  },
  {
   "cell_type": "code",
   "execution_count": 6,
   "metadata": {},
   "outputs": [],
   "source": [
    "# to print most probable word using two given feed words\n",
    "\n",
    "feed = (\"the\", \"future\", \"of\", \"the\" )\n",
    "\n",
    "text = feed\n",
    "\n",
    "n = 1\n",
    "\n",
    "while n < 10:\n",
    "    inverse = [(value, key) for key, value in model[text[-4:]].items()]\n",
    "    text = text + (max(inverse)[1],)\n",
    "    if max(inverse)[1] == '.':\n",
    "        n+=1\n",
    "\n"
   ]
  },
  {
   "cell_type": "code",
   "execution_count": 7,
   "metadata": {},
   "outputs": [
    {
     "name": "stdout",
     "output_type": "stream",
     "text": [
      "the future of the industry which diplomats say it may be having problems marketing at official prices all the oil it wants to sell . opec agreed in december to cut its production ceiling by 7 . 25 pct to 15 . 8 mln bpd and all members were abiding by its agreements . \" we ' re not thinking of issuing bonds ,\" she said . she said the surplus of 597 mln pesos , compared with a year - earlier profit of 7 . 9 mln shares . wall street traders said ual ' s stock soared in response to a question , tsai said american can ' s investment in the deltona corp is reported on the equity method beginning the fourth qtr of 1986 . amounts for 1985 and the first three qtrs of 1986 have been restated to reflect a six - for - five bonus issue replacing \" b \" shares of par value 20 cents each for every one share of par value two dlrs each , books close august 3 to 10 .\n"
     ]
    }
   ],
   "source": [
    "print(\" \".join(text))"
   ]
  }
 ],
 "metadata": {
  "kernelspec": {
   "display_name": "Python 3",
   "language": "python",
   "name": "python3"
  },
  "language_info": {
   "codemirror_mode": {
    "name": "ipython",
    "version": 3
   },
   "file_extension": ".py",
   "mimetype": "text/x-python",
   "name": "python",
   "nbconvert_exporter": "python",
   "pygments_lexer": "ipython3",
   "version": "3.7.3"
  }
 },
 "nbformat": 4,
 "nbformat_minor": 2
}
